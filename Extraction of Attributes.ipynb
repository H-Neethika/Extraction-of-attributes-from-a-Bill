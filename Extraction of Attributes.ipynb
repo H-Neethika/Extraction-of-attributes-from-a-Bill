{
 "cells": [
  {
   "cell_type": "markdown",
   "id": "27a716be",
   "metadata": {},
   "source": [
    "# Importing Necessary Libraries\n"
   ]
  },
  {
   "cell_type": "code",
   "execution_count": 17,
   "id": "13e6599f",
   "metadata": {},
   "outputs": [],
   "source": [
    "import cv2\n",
    "import pytesseract\n",
    "import re\n",
    "import json"
   ]
  },
  {
   "cell_type": "markdown",
   "id": "5a22ef10",
   "metadata": {},
   "source": [
    "# Load Image Function"
   ]
  },
  {
   "cell_type": "code",
   "execution_count": 18,
   "id": "9ae09a3d",
   "metadata": {},
   "outputs": [],
   "source": [
    "def load_image(image_path):\n",
    "    try:\n",
    "        # Attempt to read the image from the specified path using OpenCV\n",
    "        img = cv2.imread(image_path, cv2.IMREAD_COLOR)\n",
    "        # Return the loaded image if successful\n",
    "        return img\n",
    "    except Exception as e:\n",
    "        # If an error occurs during image loading, print the error message\n",
    "        print(\"Error loading image:\", e)\n",
    "        # Return None to indicate failure\n",
    "        return None\n"
   ]
  },
  {
   "cell_type": "markdown",
   "id": "81315885",
   "metadata": {},
   "source": [
    "# Preprocess Image Function"
   ]
  },
  {
   "cell_type": "code",
   "execution_count": 19,
   "id": "67ffa985",
   "metadata": {},
   "outputs": [],
   "source": [
    "def preprocess_image(image):\n",
    "    try:\n",
    "        # Convert the input image to grayscale\n",
    "        gray = cv2.cvtColor(image, cv2.COLOR_BGR2GRAY)\n",
    "#         cv2.imshow('gray image',gray)\n",
    "#         cv2.waitKey(0)\n",
    "#         cv2.destroyAllWindows()\n",
    "\n",
    "        # Apply Gaussian blur to the grayscale image to reduce noise\n",
    "        blurred = cv2.GaussianBlur(gray, (7, 7), 0)\n",
    "#         cv2.imshow('blurred image',blurred)\n",
    "#         cv2.waitKey(0)\n",
    "#         cv2.destroyAllWindows()\n",
    "\n",
    "        # Apply adaptive thresholding to create a binary image\n",
    "        thresh = cv2.adaptiveThreshold(blurred, 255, cv2.ADAPTIVE_THRESH_GAUSSIAN_C, cv2.THRESH_BINARY_INV, 17, 3)\n",
    "#         cv2.imshow('thresh image',thresh)\n",
    "#         cv2.waitKey(0)\n",
    "#         cv2.destroyAllWindows()\n",
    "\n",
    "        # Invert the binary image to make the text regions black and background white\n",
    "        processed_image = cv2.bitwise_not(thresh)\n",
    "        \n",
    "#         cv2.imshow('Preprocessed image',processed_image)\n",
    "#         cv2.waitKey(0)\n",
    "#         cv2.destroyAllWindows()\n",
    "\n",
    "        # Return the preprocessed image\n",
    "        return processed_image\n",
    "    except Exception as e:\n",
    "        # If an error occurs during image preprocessing, print the error message\n",
    "        print(\"Error preprocessing image:\", e)\n",
    "        # Return None to indicate failure\n",
    "        return None\n"
   ]
  },
  {
   "cell_type": "markdown",
   "id": "bd1c7358",
   "metadata": {},
   "source": [
    "# Extract Text Function"
   ]
  },
  {
   "cell_type": "code",
   "execution_count": 20,
   "id": "453d4c8f",
   "metadata": {},
   "outputs": [],
   "source": [
    "def extract_text(image):\n",
    "    try:\n",
    "        # Use pytesseract to extract text from the input image\n",
    "        extracted_text = pytesseract.image_to_string(image)\n",
    "        # Return the extracted text\n",
    "        return extracted_text\n",
    "    except Exception as e:\n",
    "        # If an error occurs during text extraction, print the error message\n",
    "        print(\"Error extracting text:\", e)\n",
    "        # Return an empty string to indicate failure\n",
    "        return \"\"\n"
   ]
  },
  {
   "cell_type": "markdown",
   "id": "79caea32",
   "metadata": {},
   "source": [
    "# Parse Item Line Function\n"
   ]
  },
  {
   "cell_type": "code",
   "execution_count": 21,
   "id": "9ab59c19",
   "metadata": {},
   "outputs": [],
   "source": [
    "def parse_item_line(line):\n",
    "    # Split the line into two parts based on the last occurrence of space\n",
    "    parts = line.rsplit(' ', 1)\n",
    "    # Check if there are two parts and if the second part matches the price format\n",
    "    if len(parts) == 2 and re.match(r'^\\d+\\.\\d{2}$', parts[1]):\n",
    "        # Split the first part into two parts based on the first occurrence of space\n",
    "        item_parts = parts[0].split(' ', 1)\n",
    "        # Extract the item name from the last part of the split\n",
    "        item = item_parts[-1].strip(' =\\,')\n",
    "        # Remove non-ASCII characters from a string\n",
    "        item_name= re.sub(r'[^\\x00-\\x7F]+', '', item)\n",
    "        # Return a dictionary containing the item name and price\n",
    "        return {\"item\": item_name, \"price\": parts[1]}\n",
    "    # Return None if the line does not match the expected format\n",
    "    return None\n"
   ]
  },
  {
   "cell_type": "markdown",
   "id": "71c69760",
   "metadata": {},
   "source": [
    "# Extract Key-Value Pairs Function"
   ]
  },
  {
   "cell_type": "code",
   "execution_count": 22,
   "id": "87bb72c4",
   "metadata": {},
   "outputs": [],
   "source": [
    "def extract_key_value_pairs(line):\n",
    "    # Check if the line contains a colon\n",
    "    if ':' in line:\n",
    "        # Split the line into two parts based on the first occurrence of colon\n",
    "        parts = line.split(':', 1)\n",
    "        # Check if there are two parts after splitting\n",
    "        if len(parts) == 2:\n",
    "            # Extract the key and value, removing leading and trailing whitespace and specific characters\n",
    "            key, value = parts[0].strip(\"+- \"), parts[1].strip(\"+- \")\n",
    "            return key, value\n",
    "    # Return None if the line does not contain a colon or does not match the expected format\n",
    "    return None, None\n"
   ]
  },
  {
   "cell_type": "markdown",
   "id": "e4d0d179",
   "metadata": {},
   "source": [
    "# Main Function"
   ]
  },
  {
   "cell_type": "code",
   "execution_count": 23,
   "id": "e62a2fe1",
   "metadata": {},
   "outputs": [],
   "source": [
    "def main():\n",
    "    # Set the Tesseract executable path\n",
    "    pytesseract.pytesseract.tesseract_cmd = r'C:\\Program Files\\Tesseract-OCR\\tesseract.exe'\n",
    "    # Path to the image file\n",
    "    image_path = \"bill.jpg\"\n",
    "    \n",
    "    # Load the image\n",
    "    img = load_image(image_path)\n",
    "    if img is None:\n",
    "        return  # Return if image loading fails\n",
    "    \n",
    "    # Preprocess the image\n",
    "    processed_image = preprocess_image(img)\n",
    "    if processed_image is None:\n",
    "        return  # Return if image preprocessing fails\n",
    "    \n",
    "    # Extract text from the processed image\n",
    "    extracted_text = extract_text(processed_image)\n",
    "    \n",
    "    # Parse the extracted text\n",
    "    lines = extracted_text.split('\\n')\n",
    "    # Initialize the data dictionary with default values\n",
    "    data = {\n",
    "        \"VAT REG TIN\": \"\",\n",
    "        \"Table\": \"\",\n",
    "        \"Staff\": \"\",\n",
    "        \"consumed_items\": [],\n",
    "    }\n",
    "\n",
    "    # Define items that are considered as outside items\n",
    "    outside_items = [\"sub-total\", \"vatable\", \"10% s.c.\", \"fd/by\"]\n",
    "    for line in lines:\n",
    "        line = line.strip()\n",
    "        # Extract key-value pairs from the line\n",
    "        key, value = extract_key_value_pairs(line)\n",
    "        # Update data dictionary with key-value pairs\n",
    "        if key and value:\n",
    "            if key.lower() in outside_items:\n",
    "                data[key.lower()] = value\n",
    "            else:\n",
    "                data[key] = value\n",
    "        else:\n",
    "            # Parse item lines and add them to consumed_items list\n",
    "            item_data = parse_item_line(line)\n",
    "            if item_data:\n",
    "                if item_data[\"item\"].lower() in outside_items:\n",
    "                    data[item_data[\"item\"].lower()] = item_data[\"price\"]\n",
    "                else:\n",
    "                    data[\"consumed_items\"].append(item_data)\n",
    "\n",
    "    # Output the extracted data in JSON format\n",
    "    print(json.dumps(data, indent=4))\n"
   ]
  },
  {
   "cell_type": "markdown",
   "id": "23df13b9",
   "metadata": {},
   "source": [
    "# Execute Main Function"
   ]
  },
  {
   "cell_type": "code",
   "execution_count": 24,
   "id": "a5f2790c",
   "metadata": {},
   "outputs": [
    {
     "name": "stdout",
     "output_type": "stream",
     "text": [
      "{\n",
      "    \"VAT REG TIN\": \"008-811-772-000\",\n",
      "    \"Table\": \"B1 OR@ 3333099-00\",\n",
      "    \"Staff\": \"ALEMIR Cover :3\",\n",
      "    \"consumed_items\": [\n",
      "        {\n",
      "            \"item\": \"JASMINE\",\n",
      "            \"price\": \"178.57\"\n",
      "        },\n",
      "        {\n",
      "            \"item\": \"ST.CHX FEET x0\",\n",
      "            \"price\": \"160.71\"\n",
      "        },\n",
      "        {\n",
      "            \"item\": \"ST.PORK SIOMAI\",\n",
      "            \"price\": \"196.43\"\n",
      "        },\n",
      "        {\n",
      "            \"item\": \"ST.G RICE ABALONE\",\n",
      "            \"price\": \"198.43\"\n",
      "        },\n",
      "        {\n",
      "            \"item\": \"ST.SPINACH DUMPLING \",\n",
      "            \"price\": \"196.43\"\n",
      "        },\n",
      "        {\n",
      "            \"item\": \"BAKED BBQ PORK BUN\",\n",
      "            \"price\": \"198.43\"\n",
      "        },\n",
      "        {\n",
      "            \"item\": \"PANFRIED ONION CAKE\",\n",
      "            \"price\": \"198.43\"\n",
      "        }\n",
      "    ],\n",
      "    \"sub-total\": \"1770.93\",\n",
      "    \"vatable\": \"1770.93\",\n",
      "    \"10% s.c.\": \"280.72\",\n",
      "    \"fd/by\": \"49.59\",\n",
      "    \"Total\": \"2293.75\"\n",
      "}\n"
     ]
    }
   ],
   "source": [
    "if __name__ == \"__main__\":\n",
    "    main()"
   ]
  },
  {
   "cell_type": "code",
   "execution_count": null,
   "id": "6f6f31f9",
   "metadata": {},
   "outputs": [],
   "source": []
  }
 ],
 "metadata": {
  "kernelspec": {
   "display_name": "myenv3.9",
   "language": "python",
   "name": "myenv3.9"
  },
  "language_info": {
   "codemirror_mode": {
    "name": "ipython",
    "version": 3
   },
   "file_extension": ".py",
   "mimetype": "text/x-python",
   "name": "python",
   "nbconvert_exporter": "python",
   "pygments_lexer": "ipython3",
   "version": "3.9.0"
  }
 },
 "nbformat": 4,
 "nbformat_minor": 5
}
